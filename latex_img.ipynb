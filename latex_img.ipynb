{
 "cells": [
  {
   "cell_type": "code",
   "execution_count": null,
   "metadata": {},
   "outputs": [],
   "source": [
    "'''\n",
    "original code source : https://www.kaggle.com/aidapearson/eda-starter-notebook\n",
    "'''"
   ]
  },
  {
   "cell_type": "code",
   "execution_count": null,
   "metadata": {},
   "outputs": [],
   "source": [
    "%matplotlib inline\n",
    "import glob\n",
    "import json\n",
    "import matplotlib.pyplot as plt\n",
    "import pandas as pd\n",
    "import seaborn as sns\n",
    "from PIL import Image"
   ]
  },
  {
   "cell_type": "code",
   "execution_count": null,
   "metadata": {},
   "outputs": [],
   "source": [
    "from IPython.core.interactiveshell import InteractiveShell\n",
    "InteractiveShell.ast_node_interactivity = \"all\""
   ]
  },
  {
   "cell_type": "code",
   "execution_count": null,
   "metadata": {},
   "outputs": [],
   "source": [
    "def create_data_frame(default_image_path:str,data_path:str,level_path:str,source_path:str):\n",
    "    data = {}\n",
    "    data['latex'] = []\n",
    "    data[\"latex_str\"] = []\n",
    "    data['seq_len'] = []\n",
    "    data['aspect_ratio'] = []\n",
    "    data['image_width'] = []\n",
    "    data['image_height'] = []\n",
    "    data['level']=[]\n",
    "    data['source']=[]\n",
    "    data[\"img_name\"] = []\n",
    "    all_latex_list = []\n",
    "    lv1_latex_list=[]\n",
    "    lv2_latex_list=[]\n",
    "    lv3_latex_list=[]\n",
    "    lv4_latex_list=[]\n",
    "    lv5_latex_list=[]\n",
    "    \n",
    "    with open(level_path) as f:\n",
    "        level_info={}\n",
    "        for line in f:\n",
    "            path,level=line.replace(\"\\n\",\"\").split(\"\\t\")\n",
    "            level_info[path]=int(level)\n",
    "            data[\"img_name\"].append(path)\n",
    "            \n",
    "    with open(source_path) as f:\n",
    "        source_info={}\n",
    "        for line in f:\n",
    "            path,source=line.replace(\"\\n\",\"\").split(\"\\t\")\n",
    "            source_info[path]=str(source)\n",
    "            \n",
    "    with open(data_path) as f:\n",
    "        for idx,line in enumerate(f):\n",
    "            image_path,latex=line.replace(\"\\n\",\"\").split(\"\\t\")\n",
    "            image = Image.open(default_image_path+image_path)\n",
    "            width, height = image.size\n",
    "            data['aspect_ratio'].append(round(width / height,1))\n",
    "            data['image_width'].append(int(width))\n",
    "            data['image_height'].append(int(height))\n",
    "            data[\"latex_str\"].append(latex)\n",
    "            latex=latex.split(\" \")\n",
    "            data['latex'].append(latex)\n",
    "            data['seq_len'].append(len(latex))\n",
    "            level=level_info[image_path]\n",
    "            data['level'].append(level)\n",
    "            source=source_info[image_path]\n",
    "            data['source'].append(source)\n",
    "            all_latex_list += latex\n",
    "            if level==1:\n",
    "                lv1_latex_list += latex\n",
    "            elif level==2:\n",
    "                lv2_latex_list += latex\n",
    "            elif level==3:\n",
    "                lv3_latex_list += latex\n",
    "            elif level==4:\n",
    "                lv4_latex_list += latex\n",
    "            else:\n",
    "                lv5_latex_list += latex\n",
    "    df = pd.DataFrame.from_dict(data)\n",
    "    lv_latex_list=[lv1_latex_list,lv2_latex_list,lv3_latex_list,lv4_latex_list,lv5_latex_list]\n",
    "    return df, all_latex_list,lv_latex_list"
   ]
  },
  {
   "cell_type": "code",
   "execution_count": null,
   "metadata": {},
   "outputs": [],
   "source": [
    "df, all_latex_list, lv_latex_list = create_data_frame(default_image_path=\"/opt/ml/input/data/train_dataset/images/\",\\\n",
    "       data_path=\"/opt/ml/input/data/train_dataset/gt.txt\",level_path=\"/opt/ml/input/data/train_dataset/level.txt\",source_path=\"/opt/ml/input/data/train_dataset/source.txt\")"
   ]
  },
  {
   "cell_type": "code",
   "execution_count": null,
   "metadata": {},
   "outputs": [],
   "source": [
    "df.columns"
   ]
  },
  {
   "cell_type": "code",
   "execution_count": null,
   "metadata": {},
   "outputs": [],
   "source": [
    "df.describe()"
   ]
  },
  {
   "cell_type": "code",
   "execution_count": null,
   "metadata": {},
   "outputs": [],
   "source": [
    "def plot_dist(df, field, bins, color, xlabel, ylabel, title):\n",
    "    sns.set(color_codes=True)\n",
    "    fig, ax = plt.subplots(figsize=(18,6))\n",
    "    sns.distplot(df[field], bins=bins, color=color, ax=ax)\n",
    "    ax.set_xlabel(xlabel, fontsize=13)\n",
    "    ax.set_ylabel(ylabel, fontsize=13)\n",
    "    ax.set_title(title, fontsize=20)\n",
    "    plt.show()"
   ]
  },
  {
   "cell_type": "code",
   "execution_count": null,
   "metadata": {},
   "outputs": [],
   "source": [
    "plot_dist(df=df, field='seq_len', bins=50, color='b', xlabel='Sequence Length', \\\n",
    "          ylabel='Frequency', title='Sequence Length Distribution (Train 100k Images)')"
   ]
  },
  {
   "cell_type": "code",
   "execution_count": null,
   "metadata": {},
   "outputs": [],
   "source": [
    "plot_dist(df=df, field='aspect_ratio', bins=10, color='r', xlabel='Aspect Ratio (Image Width / Image Height)', \\\n",
    "          ylabel='Frequency', title='Aspect Ratio Distribution (Train 100k Images)')"
   ]
  },
  {
   "cell_type": "code",
   "execution_count": null,
   "metadata": {},
   "outputs": [],
   "source": [
    "g = sns.jointplot(\"image_width\", \"image_height\", data=df, kind=\"kde\", space=0, color=\"r\")\n",
    "g.set_axis_labels(\"Image Width\", \"Image Height\")"
   ]
  },
  {
   "cell_type": "code",
   "execution_count": null,
   "metadata": {},
   "outputs": [],
   "source": [
    "def create_count_df(df, field, index,top_token):\n",
    "    count=df.groupby(field)[index].count().sort_values(ascending=False)\n",
    "    count_df = count.to_frame().reset_index()\n",
    "    count_df.columns = [field, field + '_count']\n",
    "    return count_df[:top_token]\n",
    "\n",
    "def plot_count_df(df, field, random_sample, color, rotation, xlabel, ylabel, title):\n",
    "    fig, ax = plt.subplots(figsize=(18,6))\n",
    "    if random_sample:\n",
    "        df = df.sample(n=50, random_state=1)\n",
    "    ax.bar(df[field], df[field + '_count'], color=color, align='center',alpha=0.5)\n",
    "    ax.set_xticklabels(df[field],rotation=rotation, fontsize=13)\n",
    "    ax.set_xlabel(xlabel, fontsize=13)\n",
    "    ax.set_ylabel(ylabel, fontsize=13)\n",
    "    ax.set_title(title, fontsize=20)\n",
    "    plt.show()\n",
    "\n",
    "default_image_path=\"/opt/ml/input/data/images/\"\n",
    "\n",
    "def latex_to_img(img_num:int):\n",
    "    a = df.iloc[img_num]['latex_str']\n",
    "    ax = plt.axes([0,0,0.2,0.2]) #left,bottom,width,height\n",
    "    ax.set_xticks([])\n",
    "    ax.set_yticks([])\n",
    "    ax.axis('off')\n",
    "    plt.text(0.3,0.5,'$%s$' %a, size=35,color=\"green\")\n",
    "    plt.show()\n",
    "\n",
    "def origin_img(img_num:int):\n",
    "    img_name = df.iloc[img_num]['img_name']\n",
    "    img = mpimg.imread(default_image_path+img_name)\n",
    "    plt.grid(True, color='w')\n",
    "    plt.imshow(img)\n",
    "    plt.show()\n",
    "\n",
    "def compare_img_gt(img_num:int, visible_infos=False):\n",
    "    # original img\n",
    "    img_name = df.iloc[img_num]['img_name']\n",
    "    img = mpimg.imread(default_image_path+img_name)\n",
    "    plt.grid(True, color='w')\n",
    "    plt.imshow(img)\n",
    "    plt.show()\n",
    "    \n",
    "    box1 = {'boxstyle': 'round',\n",
    "        'ec': (0.5, 0.3, 0.3), # edgecolor\n",
    "        'fc': (0.5, 0.8, 0.8)} # facecolor\n",
    "    \n",
    "    # ground truth latex to img\n",
    "    a = df.iloc[img_num]['latex_str']\n",
    "    ax = plt.axes([0,0,0.2,0.2]) #left,bottom,width,height\n",
    "    ax.set_xticks([])\n",
    "    ax.set_yticks([])\n",
    "    ax.axis('off')\n",
    "    plt.text(0.3,0.5,'$%s$' %a,size=20, bbox=box1)\n",
    "    plt.show()\n",
    "    \n",
    "    if visible_infos:\n",
    "        display(df.iloc[img_num][1:])"
   ]
  },
  {
   "cell_type": "code",
   "execution_count": null,
   "metadata": {},
   "outputs": [],
   "source": [
    "token_df = pd.DataFrame(all_latex_list, columns =['token'])\n",
    "token_df['index']=token_df.index"
   ]
  },
  {
   "cell_type": "code",
   "execution_count": null,
   "metadata": {},
   "outputs": [],
   "source": [
    "token_count_df = create_count_df(df=token_df, field='token', index='index',top_token=20)\n",
    "plot_count_df(df=token_count_df, field='token', random_sample=False, color='g', rotation=90, xlabel='Token', \\\n",
    "              ylabel='Number of Tokens', title='Token Distribution (10k Images)')"
   ]
  },
  {
   "cell_type": "code",
   "execution_count": null,
   "metadata": {},
   "outputs": [],
   "source": [
    "level_1 = df[df['level'] == 1]\n",
    "level_2 = df[df['level'] == 2]\n",
    "level_3 = df[df['level'] == 3]\n",
    "level_4 = df[df['level'] == 4]\n",
    "level_5 = df[df['level'] == 5]\n",
    "level_dfs=[level_1,level_2,level_3,level_4,level_5]"
   ]
  },
  {
   "cell_type": "code",
   "execution_count": null,
   "metadata": {},
   "outputs": [],
   "source": [
    "for level,df in enumerate(level_dfs):\n",
    "    plot_dist(df=df, field='seq_len', bins=50, color='b', xlabel='Sequence Length', \\\n",
    "          ylabel='Frequency', title='Sequence Length Distribution (level {})'.format(level+1))\n",
    "    plot_dist(df=df, field='aspect_ratio', bins=10, color='r', xlabel='Aspect Ratio (Image Width / Image Height)', \\\n",
    "          ylabel='Frequency', title='Aspect Ratio Distribution (level {})'.format(level+1))\n",
    "    g = sns.jointplot(\"image_width\", \"image_height\", data=df, kind=\"kde\", space=0, color=\"r\")\n",
    "    g.set_axis_labels(\"Image Width\", \"Image Height\")\n",
    "    token_df = pd.DataFrame(lv_latex_list[level], columns =['token'])\n",
    "    token_df['index']=token_df.index\n",
    "    token_count_df = create_count_df(df=token_df, field='token', index='index',top_token=20)\n",
    "    plot_count_df(df=token_count_df, field='token', random_sample=False, color='g', rotation=90, xlabel='Token', \\\n",
    "              ylabel='Number of Tokens', title='Token Distribution (level {})'.format(level+1))\n",
    "    "
   ]
  },
  {
   "cell_type": "code",
   "execution_count": null,
   "metadata": {},
   "outputs": [],
   "source": [
    "level=0\n",
    "level_dfs[level].describe()"
   ]
  },
  {
   "cell_type": "code",
   "execution_count": null,
   "metadata": {},
   "outputs": [],
   "source": [
    "plot_dist(df=level_dfs[level], field='seq_len', bins=50, color='b', xlabel='Sequence Length', \\\n",
    "      ylabel='Frequency', title='Sequence Length Distribution (level {})'.format(level+1))\n",
    "plot_dist(df=level_dfs[level], field='aspect_ratio', bins=10, color='r', xlabel='Aspect Ratio (Image Width / Image Height)', \\\n",
    "      ylabel='Frequency', title='Aspect Ratio Distribution (level {})'.format(level+1))\n",
    "g = sns.jointplot(\"image_width\", \"image_height\", data=level_dfs[level], kind=\"kde\", space=0, color=\"r\")\n",
    "g.set_axis_labels(\"Image Width\", \"Image Height\")\n",
    "token_df = pd.DataFrame(lv_latex_list[level], columns =['token'])\n",
    "token_df['index']=token_df.index\n",
    "token_count_df = create_count_df(df=token_df, field='token', index='index',top_token=20)\n",
    "plot_count_df(df=token_count_df, field='token', random_sample=False, color='g', rotation=90, xlabel='Token', \\\n",
    "          ylabel='Number of Tokens', title='Token Distribution (level {})'.format(level+1))"
   ]
  },
  {
   "cell_type": "code",
   "execution_count": null,
   "metadata": {},
   "outputs": [],
   "source": [
    "level=1\n",
    "level_dfs[level].describe()"
   ]
  },
  {
   "cell_type": "code",
   "execution_count": null,
   "metadata": {},
   "outputs": [],
   "source": [
    "plot_dist(df=level_dfs[level], field='seq_len', bins=50, color='b', xlabel='Sequence Length', \\\n",
    "      ylabel='Frequency', title='Sequence Length Distribution (level {})'.format(level+1))\n",
    "plot_dist(df=level_dfs[level], field='aspect_ratio', bins=10, color='r', xlabel='Aspect Ratio (Image Width / Image Height)', \\\n",
    "      ylabel='Frequency', title='Aspect Ratio Distribution (level {})'.format(level+1))\n",
    "g = sns.jointplot(\"image_width\", \"image_height\", data=level_dfs[level], kind=\"kde\", space=0, color=\"r\")\n",
    "g.set_axis_labels(\"Image Width\", \"Image Height\")\n",
    "token_df = pd.DataFrame(lv_latex_list[level], columns =['token'])\n",
    "token_df['index']=token_df.index\n",
    "token_count_df = create_count_df(df=token_df, field='token', index='index',top_token=20)\n",
    "plot_count_df(df=token_count_df, field='token', random_sample=False, color='g', rotation=90, xlabel='Token', \\\n",
    "          ylabel='Number of Tokens', title='Token Distribution (level {})'.format(level+1))"
   ]
  },
  {
   "cell_type": "code",
   "execution_count": null,
   "metadata": {},
   "outputs": [],
   "source": [
    "level=2\n",
    "level_dfs[level].describe()"
   ]
  },
  {
   "cell_type": "code",
   "execution_count": null,
   "metadata": {},
   "outputs": [],
   "source": [
    "plot_dist(df=level_dfs[level], field='seq_len', bins=50, color='b', xlabel='Sequence Length', \\\n",
    "      ylabel='Frequency', title='Sequence Length Distribution (level {})'.format(level+1))\n",
    "plot_dist(df=level_dfs[level], field='aspect_ratio', bins=10, color='r', xlabel='Aspect Ratio (Image Width / Image Height)', \\\n",
    "      ylabel='Frequency', title='Aspect Ratio Distribution (level {})'.format(level+1))\n",
    "g = sns.jointplot(\"image_width\", \"image_height\", data=level_dfs[level], kind=\"kde\", space=0, color=\"r\")\n",
    "g.set_axis_labels(\"Image Width\", \"Image Height\")\n",
    "token_df = pd.DataFrame(lv_latex_list[level], columns =['token'])\n",
    "token_df['index']=token_df.index\n",
    "token_count_df = create_count_df(df=token_df, field='token', index='index',top_token=20)\n",
    "plot_count_df(df=token_count_df, field='token', random_sample=False, color='g', rotation=90, xlabel='Token', \\\n",
    "          ylabel='Number of Tokens', title='Token Distribution (level {})'.format(level+1))"
   ]
  },
  {
   "cell_type": "code",
   "execution_count": null,
   "metadata": {},
   "outputs": [],
   "source": [
    "level=3\n",
    "level_dfs[level].describe()"
   ]
  },
  {
   "cell_type": "code",
   "execution_count": null,
   "metadata": {},
   "outputs": [],
   "source": [
    "plot_dist(df=level_dfs[level], field='seq_len', bins=50, color='b', xlabel='Sequence Length', \\\n",
    "      ylabel='Frequency', title='Sequence Length Distribution (level {})'.format(level+1))\n",
    "plot_dist(df=level_dfs[level], field='aspect_ratio', bins=10, color='r', xlabel='Aspect Ratio (Image Width / Image Height)', \\\n",
    "      ylabel='Frequency', title='Aspect Ratio Distribution (level {})'.format(level+1))\n",
    "g = sns.jointplot(\"image_width\", \"image_height\", data=level_dfs[level], kind=\"kde\", space=0, color=\"r\")\n",
    "g.set_axis_labels(\"Image Width\", \"Image Height\")\n",
    "token_df = pd.DataFrame(lv_latex_list[level], columns =['token'])\n",
    "token_df['index']=token_df.index\n",
    "token_count_df = create_count_df(df=token_df, field='token', index='index',top_token=20)\n",
    "plot_count_df(df=token_count_df, field='token', random_sample=False, color='g', rotation=90, xlabel='Token', \\\n",
    "          ylabel='Number of Tokens', title='Token Distribution (level {})'.format(level+1))"
   ]
  },
  {
   "cell_type": "code",
   "execution_count": null,
   "metadata": {},
   "outputs": [],
   "source": [
    "level=4\n",
    "level_dfs[level].describe()"
   ]
  },
  {
   "cell_type": "code",
   "execution_count": null,
   "metadata": {},
   "outputs": [],
   "source": [
    "plot_dist(df=level_dfs[level], field='seq_len', bins=50, color='b', xlabel='Sequence Length', \\\n",
    "      ylabel='Frequency', title='Sequence Length Distribution (level {})'.format(level+1))\n",
    "plot_dist(df=level_dfs[level], field='aspect_ratio', bins=10, color='r', xlabel='Aspect Ratio (Image Width / Image Height)', \\\n",
    "      ylabel='Frequency', title='Aspect Ratio Distribution (level {})'.format(level+1))\n",
    "g = sns.jointplot(\"image_width\", \"image_height\", data=level_dfs[level], kind=\"kde\", space=0, color=\"r\")\n",
    "g.set_axis_labels(\"Image Width\", \"Image Height\")\n",
    "token_df = pd.DataFrame(lv_latex_list[level], columns =['token'])\n",
    "token_df['index']=token_df.index\n",
    "token_count_df = create_count_df(df=token_df, field='token', index='index',top_token=20)\n",
    "plot_count_df(df=token_count_df, field='token', random_sample=False, color='g', rotation=90, xlabel='Token', \\\n",
    "          ylabel='Number of Tokens', title='Token Distribution (level {})'.format(level+1))"
   ]
  },
  {
   "cell_type": "code",
   "execution_count": null,
   "metadata": {},
   "outputs": [],
   "source": [
    "img_nb = 0\n",
    "print(\"---------------- print latex to img ----------------\")\n",
    "latex_to_img(img_num = img_nb)\n",
    "print(\"---------------- print original img ----------------\")\n",
    "origin_img(img_num = img_nb)\n",
    "print(\"---------------- print all ----------------\")\n",
    "compare_img_gt(img_num = img_nb, visible_infos = True)"
   ]
  },
  {
   "cell_type": "code",
   "execution_count": null,
   "metadata": {},
   "outputs": [],
   "source": []
  }
 ],
 "metadata": {
  "kernelspec": {
   "display_name": "Python 3",
   "language": "python",
   "name": "python3"
  },
  "language_info": {
   "codemirror_mode": {
    "name": "ipython",
    "version": 3
   },
   "file_extension": ".py",
   "mimetype": "text/x-python",
   "name": "python",
   "nbconvert_exporter": "python",
   "pygments_lexer": "ipython3",
   "version": "3.7.7"
  }
 },
 "nbformat": 4,
 "nbformat_minor": 4
}
